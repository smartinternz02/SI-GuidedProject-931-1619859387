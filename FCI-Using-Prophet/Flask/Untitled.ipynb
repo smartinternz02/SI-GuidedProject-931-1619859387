{
 "cells": [
  {
   "cell_type": "code",
   "execution_count": null,
   "metadata": {},
   "outputs": [
    {
     "name": "stderr",
     "output_type": "stream",
     "text": [
      "Importing plotly failed. Interactive plots will not work.\n"
     ]
    },
    {
     "name": "stdout",
     "output_type": "stream",
     "text": [
      " * Serving Flask app \"__main__\" (lazy loading)\n",
      " * Environment: production\n",
      "   WARNING: This is a development server. Do not use it in a production deployment.\n",
      "   Use a production WSGI server instead.\n",
      " * Debug mode: off\n"
     ]
    },
    {
     "name": "stderr",
     "output_type": "stream",
     "text": [
      "INFO:werkzeug: * Running on http://127.0.0.1:5000/ (Press CTRL+C to quit)\n",
      "INFO:werkzeug:127.0.0.1 - - [21/Jun/2021 12:20:42] \"\u001b[37mGET / HTTP/1.1\u001b[0m\" 200 -\n",
      "INFO:werkzeug:127.0.0.1 - - [21/Jun/2021 12:20:42] \"\u001b[37mGET /static/css/styles.css HTTP/1.1\u001b[0m\" 200 -\n",
      "INFO:werkzeug:127.0.0.1 - - [21/Jun/2021 12:20:45] \"\u001b[33mGET /favicon.ico HTTP/1.1\u001b[0m\" 404 -\n",
      "INFO:werkzeug:127.0.0.1 - - [21/Jun/2021 12:21:08] \"\u001b[37mPOST /predict HTTP/1.1\u001b[0m\" 200 -\n"
     ]
    },
    {
     "name": "stdout",
     "output_type": "stream",
     "text": [
      "          ds       trend  yhat_lower  yhat_upper  trend_lower  trend_upper  \\\n",
      "0 1958-02-14  381.845246  383.780772  441.553217   381.845246   381.845246   \n",
      "\n",
      "   additive_terms  additive_terms_lower  additive_terms_upper     yearly  \\\n",
      "0       32.738023             32.738023             32.738023  32.738023   \n",
      "\n",
      "   yearly_lower  yearly_upper  multiplicative_terms  \\\n",
      "0     32.738023     32.738023                   0.0   \n",
      "\n",
      "   multiplicative_terms_lower  multiplicative_terms_upper        yhat  \n",
      "0                         0.0                         0.0  414.583269  \n",
      "415\n"
     ]
    },
    {
     "name": "stderr",
     "output_type": "stream",
     "text": [
      "INFO:werkzeug:127.0.0.1 - - [21/Jun/2021 12:21:46] \"\u001b[37mPOST /predict HTTP/1.1\u001b[0m\" 200 -\n"
     ]
    },
    {
     "name": "stdout",
     "output_type": "stream",
     "text": [
      "          ds      trend  yhat_lower  yhat_upper  trend_lower  trend_upper  \\\n",
      "0 1945-07-02  16.795872   57.447306  115.073128    16.795872    16.795872   \n",
      "\n",
      "   additive_terms  additive_terms_lower  additive_terms_upper    yearly  \\\n",
      "0        69.52346              69.52346              69.52346  69.52346   \n",
      "\n",
      "   yearly_lower  yearly_upper  multiplicative_terms  \\\n",
      "0      69.52346      69.52346                   0.0   \n",
      "\n",
      "   multiplicative_terms_lower  multiplicative_terms_upper       yhat  \n",
      "0                         0.0                         0.0  86.319332  \n",
      "86\n"
     ]
    }
   ],
   "source": [
    "import numpy as np\n",
    "import pandas as pd\n",
    "from flask import Flask, request, jsonify, render_template\n",
    "import pickle\n",
    "\n",
    "app = Flask(__name__)\n",
    "model = pickle.load(open('airpassengers.pkl', 'rb'))\n",
    "\n",
    "@app.route('/')\n",
    "def home():\n",
    "    return render_template('home.html')\n",
    "\n",
    "@app.route('/predict',methods=['POST'])\n",
    "def y_predict():\n",
    "    if request.method == \"POST\":\n",
    "        ds = request.form[\"Date\"]\n",
    "        a={\"ds\":[ds]}\n",
    "        ds=pd.DataFrame(a)\n",
    "        prediction = model.predict(ds)\n",
    "        print(prediction)\n",
    "        output=round(prediction.iloc[0,15])\n",
    "        print(output)\n",
    "        return render_template('home.html',prediction_text=\"Commuters Inflow on selected date is. {} thousands\".format(output))\n",
    "    return render_template(\"home.html\")\n",
    "    \n",
    "if __name__ == \"__main__\":\n",
    "    app.run(debug=False)\n"
   ]
  }
 ],
 "metadata": {
  "kernelspec": {
   "display_name": "Python 3",
   "language": "python",
   "name": "python3"
  },
  "language_info": {
   "codemirror_mode": {
    "name": "ipython",
    "version": 3
   },
   "file_extension": ".py",
   "mimetype": "text/x-python",
   "name": "python",
   "nbconvert_exporter": "python",
   "pygments_lexer": "ipython3",
   "version": "3.7.3"
  }
 },
 "nbformat": 4,
 "nbformat_minor": 2
}
